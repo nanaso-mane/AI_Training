{
  "nbformat": 4,
  "nbformat_minor": 0,
  "metadata": {
    "colab": {
      "provenance": [],
      "gpuType": "T4",
      "authorship_tag": "ABX9TyOFgWvdVkumxnJq1GL/7zK/",
      "include_colab_link": true
    },
    "kernelspec": {
      "name": "python3",
      "display_name": "Python 3"
    },
    "language_info": {
      "name": "python"
    },
    "accelerator": "GPU"
  },
  "cells": [
    {
      "cell_type": "markdown",
      "metadata": {
        "id": "view-in-github",
        "colab_type": "text"
      },
      "source": [
        "<a href=\"https://colab.research.google.com/github/nanaso-mane/AI_Training/blob/main/Insurance_QnA_Bot_Part1.ipynb\" target=\"_parent\"><img src=\"https://colab.research.google.com/assets/colab-badge.svg\" alt=\"Open In Colab\"/></a>"
      ]
    },
    {
      "cell_type": "code",
      "execution_count": null,
      "metadata": {
        "id": "4JQJIRpEave0",
        "collapsed": true
      },
      "outputs": [],
      "source": [
        "!pip install transformers torch"
      ]
    },
    {
      "cell_type": "code",
      "source": [
        "from transformers import pipeline\n",
        "\n",
        "#Creating QnA model pipeline\n",
        "qa_pipeline = pipeline(\"question-answering\",model=\"distilbert-base-cased-distilled-squad\")"
      ],
      "metadata": {
        "id": "2zCxYGpwbrkG",
        "collapsed": true
      },
      "execution_count": null,
      "outputs": []
    },
    {
      "cell_type": "code",
      "source": [
        "# Using our Insurance FAQ data as text corpus\n",
        "\n",
        "faq_context = \"\"\"\n",
        "Q: Explain the benefits included in the Gold Plan health insurance policy.\n",
        "A: The Gold Plan health insurance covers hospitalization expenses, pre and post-hospitalization costs, daycare procedures, and maternity benefits. It also includes annual health checkups and wellness rewards. Pre-existing conditions are covered after a two-year waiting period.\n",
        "\n",
        "Q: What are the exclusions in the Gold Plan health insurance?\n",
        "A: The Gold Plan excludes treatments related to cosmetic surgery, dental procedures (unless due to accidents), and injuries caused by self-harm or intoxication.\n",
        "\n",
        "Q: Summarize the Comprehensive Auto Insurance Plan.\n",
        "A: It includes third-party liability, own-damage coverage, and optional add-ons like zero depreciation and roadside assistance.\n",
        "\n",
        "Q: List the documents required for filing a motor insurance claim.\n",
        "A: FIR copy, RC book, driver’s license, filled claim form, and repair cost estimate.\n",
        "\n",
        "Q: Describe the benefits of the Secure Life Term Plan.\n",
        "A: Provides high sum assured, death benefits, critical illness and accidental death riders, income protection, and tax benefits under Sections 80C and 10(10D).\n",
        "\n",
        "Q: How does the life insurance claim process work?\n",
        "A: Submit claim form, policy document, death certificate, and ID proof. Claims are settled within 7–10 working days.\n",
        "\n",
        "Q: What is a deductible in insurance?\n",
        "A: A deductible is the amount the policyholder pays out of pocket before the insurer begins to pay.\n",
        "\n",
        "Q: Can I port my health insurance policy to another company?\n",
        "A: Yes, after at least one year of continuous coverage, as per IRDAI rules.\n",
        "\"\"\""
      ],
      "metadata": {
        "id": "BIaatVsacyUt"
      },
      "execution_count": null,
      "outputs": []
    },
    {
      "cell_type": "code",
      "source": [
        "question=\"What does the Gold plan of health insurance cover?\"\n",
        "result = qa_pipeline(question=question, context=faq_context)\n",
        "print(f\"Q:{question}\\nA:{result['answer']}\")"
      ],
      "metadata": {
        "id": "acBMQvarjJaq"
      },
      "execution_count": null,
      "outputs": []
    },
    {
      "cell_type": "code",
      "source": [
        "question=\"Does the Gold plan of health insurance cover pre-existing conditions or not?\"\n",
        "result = qa_pipeline(question=question, context=faq_context)\n",
        "print(f\"Q:{question}\\nA:{result['answer']}\")"
      ],
      "metadata": {
        "id": "k_dITttPkCxX"
      },
      "execution_count": null,
      "outputs": []
    },
    {
      "cell_type": "code",
      "source": [
        "question=\"What are the exclusions in health insurance cover?\"\n",
        "result = qa_pipeline(question=question, context=faq_context)\n",
        "print(f\"Q:{question}\\nA:{result['answer']}\")"
      ],
      "metadata": {
        "id": "jpQEpG6ZlYXV"
      },
      "execution_count": null,
      "outputs": []
    },
    {
      "cell_type": "code",
      "source": [
        "# Life Insurance Policy\n",
        "\n",
        "context_text = \"\"\"\n",
        "The Secure Life Term Plan is a pure protection policy offering a high sum assured at affordable premiums. Features include:\n",
        "\n",
        "1. Eligibility:\n",
        "    - Entry age: 18 to 65 years\n",
        "    - Maximum maturity age: 80 years\n",
        "    - Policy term: 10 to 40 years\n",
        "\n",
        "2. Sum Assured Options: INR 25,00,000 to INR 2 Crore\n",
        "\n",
        "3. Premium Payment:\n",
        "    - Monthly, Quarterly, Half-Yearly, or Annually\n",
        "    - Premium waiver on permanent disability\n",
        "\n",
        "4. Benefits:\n",
        "    - Death Benefit: Lump sum paid to nominee in case of policyholder’s death during the policy term.\n",
        "    - Optional Riders:\n",
        "        - Critical Illness Rider\n",
        "        - Accidental Death Rider\n",
        "        - Income Benefit Rider\n",
        "\n",
        "5. Tax Benefits: Under Section 80C and 10(10D) of the Income Tax Act.\n",
        "\n",
        "6. Claim Process:\n",
        "    - Submit claim form, policy copy, death certificate, ID proof of nominee.\n",
        "    - Settlement within 7–10 working days.\n",
        "\n",
        "7. Grace Period: 30 days for annual/quarterly, 15 days for monthly payments.\n",
        "\n",
        "8. Free Look Period: 15 days from policy receipt to review terms.\n",
        "\n",
        "9. Exclusions: Suicide within the first 12 months, and death due to participation in hazardous activities.\n",
        "\"\"\""
      ],
      "metadata": {
        "id": "rlUOODhxx_UX"
      },
      "execution_count": null,
      "outputs": []
    },
    {
      "cell_type": "code",
      "source": [
        "question=\"What are the benefits of Secure Life Term Plan?\"\n",
        "result = qa_pipeline(question=question, context=context_text)\n",
        "print(f\"Q:{question}\\nA:{result['answer']}\")"
      ],
      "metadata": {
        "id": "HdlMap7-yKZn"
      },
      "execution_count": null,
      "outputs": []
    }
  ]
}